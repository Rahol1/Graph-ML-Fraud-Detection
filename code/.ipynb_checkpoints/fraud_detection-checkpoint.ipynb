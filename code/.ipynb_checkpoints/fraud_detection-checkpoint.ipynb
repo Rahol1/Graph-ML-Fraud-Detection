{
 "cells": [
  {
   "cell_type": "markdown",
   "metadata": {},
   "source": [
    "# Fraud Detection with Graph databases and Machine Learning"
   ]
  },
  {
   "cell_type": "markdown",
   "metadata": {},
   "source": [
    "## Importing the required Python libraries"
   ]
  },
  {
   "cell_type": "code",
   "execution_count": 120,
   "metadata": {},
   "outputs": [],
   "source": [
    "import numpy as np\n",
    "import pandas as pd\n",
    "from py2neo import Graph\n",
    "from sklearn.preprocessing import StandardScaler, LabelEncoder\n",
    "from sklearn.model_selection import KFold, train_test_split, StratifiedKFold\n",
    "from sklearn.svm import SVC\n",
    "from sklearn.ensemble import RandomForestClassifier\n",
    "from sklearn.linear_model import LogisticRegression\n",
    "from sklearn.metrics import accuracy_score, precision_recall_fscore_support, classification_report\n",
    "from imblearn.over_sampling import SMOTE \n",
    "from collections import Counter\n",
    "from sklearn.decomposition import PCA"
   ]
  },
  {
   "cell_type": "markdown",
   "metadata": {},
   "source": [
    "## Loading and exploring the banksim dataset "
   ]
  },
  {
   "cell_type": "code",
   "execution_count": 134,
   "metadata": {},
   "outputs": [
    {
     "data": {
      "text/html": [
       "<div>\n",
       "<style scoped>\n",
       "    .dataframe tbody tr th:only-of-type {\n",
       "        vertical-align: middle;\n",
       "    }\n",
       "\n",
       "    .dataframe tbody tr th {\n",
       "        vertical-align: top;\n",
       "    }\n",
       "\n",
       "    .dataframe thead th {\n",
       "        text-align: right;\n",
       "    }\n",
       "</style>\n",
       "<table border=\"1\" class=\"dataframe\">\n",
       "  <thead>\n",
       "    <tr style=\"text-align: right;\">\n",
       "      <th></th>\n",
       "      <th>step</th>\n",
       "      <th>customer</th>\n",
       "      <th>age</th>\n",
       "      <th>gender</th>\n",
       "      <th>zipcodeOri</th>\n",
       "      <th>merchant</th>\n",
       "      <th>zipMerchant</th>\n",
       "      <th>category</th>\n",
       "      <th>amount</th>\n",
       "      <th>fraud</th>\n",
       "    </tr>\n",
       "  </thead>\n",
       "  <tbody>\n",
       "    <tr>\n",
       "      <th>0</th>\n",
       "      <td>0</td>\n",
       "      <td>'C1093826151'</td>\n",
       "      <td>'4'</td>\n",
       "      <td>'M'</td>\n",
       "      <td>'28007'</td>\n",
       "      <td>'M348934600'</td>\n",
       "      <td>'28007'</td>\n",
       "      <td>'es_transportation'</td>\n",
       "      <td>4.55</td>\n",
       "      <td>0</td>\n",
       "    </tr>\n",
       "    <tr>\n",
       "      <th>1</th>\n",
       "      <td>0</td>\n",
       "      <td>'C352968107'</td>\n",
       "      <td>'2'</td>\n",
       "      <td>'M'</td>\n",
       "      <td>'28007'</td>\n",
       "      <td>'M348934600'</td>\n",
       "      <td>'28007'</td>\n",
       "      <td>'es_transportation'</td>\n",
       "      <td>39.68</td>\n",
       "      <td>0</td>\n",
       "    </tr>\n",
       "    <tr>\n",
       "      <th>2</th>\n",
       "      <td>0</td>\n",
       "      <td>'C2054744914'</td>\n",
       "      <td>'4'</td>\n",
       "      <td>'F'</td>\n",
       "      <td>'28007'</td>\n",
       "      <td>'M1823072687'</td>\n",
       "      <td>'28007'</td>\n",
       "      <td>'es_transportation'</td>\n",
       "      <td>26.89</td>\n",
       "      <td>0</td>\n",
       "    </tr>\n",
       "    <tr>\n",
       "      <th>3</th>\n",
       "      <td>0</td>\n",
       "      <td>'C1760612790'</td>\n",
       "      <td>'3'</td>\n",
       "      <td>'M'</td>\n",
       "      <td>'28007'</td>\n",
       "      <td>'M348934600'</td>\n",
       "      <td>'28007'</td>\n",
       "      <td>'es_transportation'</td>\n",
       "      <td>17.25</td>\n",
       "      <td>0</td>\n",
       "    </tr>\n",
       "    <tr>\n",
       "      <th>4</th>\n",
       "      <td>0</td>\n",
       "      <td>'C757503768'</td>\n",
       "      <td>'5'</td>\n",
       "      <td>'M'</td>\n",
       "      <td>'28007'</td>\n",
       "      <td>'M348934600'</td>\n",
       "      <td>'28007'</td>\n",
       "      <td>'es_transportation'</td>\n",
       "      <td>35.72</td>\n",
       "      <td>0</td>\n",
       "    </tr>\n",
       "  </tbody>\n",
       "</table>\n",
       "</div>"
      ],
      "text/plain": [
       "   step       customer  age gender zipcodeOri       merchant zipMerchant  \\\n",
       "0     0  'C1093826151'  '4'    'M'    '28007'   'M348934600'     '28007'   \n",
       "1     0   'C352968107'  '2'    'M'    '28007'   'M348934600'     '28007'   \n",
       "2     0  'C2054744914'  '4'    'F'    '28007'  'M1823072687'     '28007'   \n",
       "3     0  'C1760612790'  '3'    'M'    '28007'   'M348934600'     '28007'   \n",
       "4     0   'C757503768'  '5'    'M'    '28007'   'M348934600'     '28007'   \n",
       "\n",
       "              category  amount  fraud  \n",
       "0  'es_transportation'    4.55      0  \n",
       "1  'es_transportation'   39.68      0  \n",
       "2  'es_transportation'   26.89      0  \n",
       "3  'es_transportation'   17.25      0  \n",
       "4  'es_transportation'   35.72      0  "
      ]
     },
     "execution_count": 134,
     "metadata": {},
     "output_type": "execute_result"
    }
   ],
   "source": [
    "banksim_df = pd.read_csv(\"../data/bs140513_032310.csv\")\n",
    "banksim_df.head()"
   ]
  },
  {
   "cell_type": "code",
   "execution_count": 135,
   "metadata": {},
   "outputs": [
    {
     "name": "stdout",
     "output_type": "stream",
     "text": [
      "<class 'pandas.core.frame.DataFrame'>\n",
      "RangeIndex: 594643 entries, 0 to 594642\n",
      "Data columns (total 10 columns):\n",
      "step           594643 non-null int64\n",
      "customer       594643 non-null object\n",
      "age            594643 non-null object\n",
      "gender         594643 non-null object\n",
      "zipcodeOri     594643 non-null object\n",
      "merchant       594643 non-null object\n",
      "zipMerchant    594643 non-null object\n",
      "category       594643 non-null object\n",
      "amount         594643 non-null float64\n",
      "fraud          594643 non-null int64\n",
      "dtypes: float64(1), int64(2), object(7)\n",
      "memory usage: 45.4+ MB\n"
     ]
    }
   ],
   "source": [
    "banksim_df.info()"
   ]
  },
  {
   "cell_type": "markdown",
   "metadata": {},
   "source": [
    "Viewing the split of the output classes - fraudulent and genuine transactions"
   ]
  },
  {
   "cell_type": "code",
   "execution_count": 136,
   "metadata": {},
   "outputs": [
    {
     "data": {
      "text/plain": [
       "0    587443\n",
       "1      7200\n",
       "Name: fraud, dtype: int64"
      ]
     },
     "execution_count": 136,
     "metadata": {},
     "output_type": "execute_result"
    }
   ],
   "source": [
    "banksim_df['fraud'].value_counts()"
   ]
  },
  {
   "cell_type": "code",
   "execution_count": 124,
   "metadata": {},
   "outputs": [
    {
     "data": {
      "text/plain": [
       "step             180\n",
       "customer        4112\n",
       "age                8\n",
       "gender             4\n",
       "zipcodeOri         1\n",
       "merchant          50\n",
       "zipMerchant        1\n",
       "category          15\n",
       "amount         23767\n",
       "fraud              2\n",
       "dtype: int64"
      ]
     },
     "execution_count": 124,
     "metadata": {},
     "output_type": "execute_result"
    }
   ],
   "source": [
    "# Number of unique values per column in the banksim dataset\n",
    "banksim_df.nunique()"
   ]
  },
  {
   "cell_type": "markdown",
   "metadata": {},
   "source": [
    "## Preprocessing the data "
   ]
  },
  {
   "cell_type": "code",
   "execution_count": 125,
   "metadata": {},
   "outputs": [
    {
     "data": {
      "text/plain": [
       "step           0\n",
       "customer       0\n",
       "age            0\n",
       "gender         0\n",
       "zipcodeOri     0\n",
       "merchant       0\n",
       "zipMerchant    0\n",
       "category       0\n",
       "amount         0\n",
       "fraud          0\n",
       "dtype: int64"
      ]
     },
     "execution_count": 125,
     "metadata": {},
     "output_type": "execute_result"
    }
   ],
   "source": [
    "# Obtaining the number of null values in each column\n",
    "banksim_df.isna().sum()"
   ]
  },
  {
   "cell_type": "markdown",
   "metadata": {},
   "source": [
    "Looks like there are no null values in the dataset."
   ]
  },
  {
   "cell_type": "code",
   "execution_count": 126,
   "metadata": {},
   "outputs": [
    {
     "data": {
      "text/plain": [
       "0    0\n",
       "1    0\n",
       "2    0\n",
       "3    0\n",
       "4    0\n",
       "Name: fraud, dtype: int64"
      ]
     },
     "execution_count": 126,
     "metadata": {},
     "output_type": "execute_result"
    }
   ],
   "source": [
    "# Retrieving the class attribute from the dataframe\n",
    "Y_before_smote = banksim_df['fraud']\n",
    "Y_before_smote.head()"
   ]
  },
  {
   "cell_type": "code",
   "execution_count": 127,
   "metadata": {},
   "outputs": [],
   "source": [
    "'''\n",
    "Removing unwanted columns\n",
    "Since zipcodeOri and zipMerchant have the same value for all the rows, these columns are redundant\n",
    "'''\n",
    "\n",
    "feature_df = banksim_df.drop(['step', 'customer', 'zipcodeOri', 'zipMerchant', 'fraud'], axis=1)\n",
    "\n",
    "# Encoding the categorical variables because SMOTE cannot work with string values\n",
    "label_encoder = LabelEncoder()\n",
    "feature_df['gender'] = label_encoder.fit_transform(feature_df['gender'])\n",
    "feature_df['age'] = label_encoder.fit_transform(feature_df['age'])\n",
    "feature_df['category'] = label_encoder.fit_transform(feature_df['category'])\n",
    "feature_df['merchant'] = label_encoder.fit_transform(feature_df['merchant'])\n"
   ]
  },
  {
   "cell_type": "code",
   "execution_count": 128,
   "metadata": {},
   "outputs": [
    {
     "data": {
      "text/html": [
       "<div>\n",
       "<style scoped>\n",
       "    .dataframe tbody tr th:only-of-type {\n",
       "        vertical-align: middle;\n",
       "    }\n",
       "\n",
       "    .dataframe tbody tr th {\n",
       "        vertical-align: top;\n",
       "    }\n",
       "\n",
       "    .dataframe thead th {\n",
       "        text-align: right;\n",
       "    }\n",
       "</style>\n",
       "<table border=\"1\" class=\"dataframe\">\n",
       "  <thead>\n",
       "    <tr style=\"text-align: right;\">\n",
       "      <th></th>\n",
       "      <th>age</th>\n",
       "      <th>gender</th>\n",
       "      <th>merchant</th>\n",
       "      <th>category</th>\n",
       "      <th>amount</th>\n",
       "    </tr>\n",
       "  </thead>\n",
       "  <tbody>\n",
       "    <tr>\n",
       "      <th>0</th>\n",
       "      <td>4</td>\n",
       "      <td>2</td>\n",
       "      <td>30</td>\n",
       "      <td>12</td>\n",
       "      <td>4.55</td>\n",
       "    </tr>\n",
       "    <tr>\n",
       "      <th>1</th>\n",
       "      <td>2</td>\n",
       "      <td>2</td>\n",
       "      <td>30</td>\n",
       "      <td>12</td>\n",
       "      <td>39.68</td>\n",
       "    </tr>\n",
       "    <tr>\n",
       "      <th>2</th>\n",
       "      <td>4</td>\n",
       "      <td>1</td>\n",
       "      <td>18</td>\n",
       "      <td>12</td>\n",
       "      <td>26.89</td>\n",
       "    </tr>\n",
       "    <tr>\n",
       "      <th>3</th>\n",
       "      <td>3</td>\n",
       "      <td>2</td>\n",
       "      <td>30</td>\n",
       "      <td>12</td>\n",
       "      <td>17.25</td>\n",
       "    </tr>\n",
       "    <tr>\n",
       "      <th>4</th>\n",
       "      <td>5</td>\n",
       "      <td>2</td>\n",
       "      <td>30</td>\n",
       "      <td>12</td>\n",
       "      <td>35.72</td>\n",
       "    </tr>\n",
       "  </tbody>\n",
       "</table>\n",
       "</div>"
      ],
      "text/plain": [
       "   age  gender  merchant  category  amount\n",
       "0    4       2        30        12    4.55\n",
       "1    2       2        30        12   39.68\n",
       "2    4       1        18        12   26.89\n",
       "3    3       2        30        12   17.25\n",
       "4    5       2        30        12   35.72"
      ]
     },
     "execution_count": 128,
     "metadata": {},
     "output_type": "execute_result"
    }
   ],
   "source": [
    "feature_df.head()"
   ]
  },
  {
   "cell_type": "code",
   "execution_count": 113,
   "metadata": {},
   "outputs": [
    {
     "name": "stdout",
     "output_type": "stream",
     "text": [
      "Original dataset shape Counter({0: 587443, 1: 7200})\n",
      "dataset shape after smote Counter({0: 587443, 1: 587443})\n"
     ]
    }
   ],
   "source": [
    "# Handling the imbalance in the dataset using SMOTE\n",
    "\n",
    "print('Original dataset shape %s' % Counter(Y_before_smote))\n",
    "\n",
    "X_before_smote = feature_df\n",
    "sm = SMOTE()#random_state=1)\n",
    "\n",
    "# Applying smote to dataset, result is nparray\n",
    "X_after_smote, Y_after_smote = sm.fit_resample(X_before_smote, Y_before_smote)\n",
    "                                               \n",
    "# Converting back tp data frame from nparray\n",
    "X_after_smote_df = pd.DataFrame(X_after_smote, columns=X_before_smote.columns)\n",
    "Y_after_smote_df = pd.DataFrame(Y_after_smote, columns = [\"fraud\"])\n",
    "                                               \n",
    "print('dataset shape after smote %s' % Counter(Y_after_smote))"
   ]
  },
  {
   "cell_type": "code",
   "execution_count": 114,
   "metadata": {},
   "outputs": [
    {
     "data": {
      "text/plain": [
       "age              8\n",
       "gender           4\n",
       "merchant        50\n",
       "category        15\n",
       "amount      602548\n",
       "dtype: int64"
      ]
     },
     "execution_count": 114,
     "metadata": {},
     "output_type": "execute_result"
    }
   ],
   "source": [
    "# Verifying the number of unique values in each column after SMOTE\n",
    "X_after_smote_df.nunique()"
   ]
  },
  {
   "cell_type": "code",
   "execution_count": 129,
   "metadata": {},
   "outputs": [
    {
     "data": {
      "text/html": [
       "<div>\n",
       "<style scoped>\n",
       "    .dataframe tbody tr th:only-of-type {\n",
       "        vertical-align: middle;\n",
       "    }\n",
       "\n",
       "    .dataframe tbody tr th {\n",
       "        vertical-align: top;\n",
       "    }\n",
       "\n",
       "    .dataframe thead th {\n",
       "        text-align: right;\n",
       "    }\n",
       "</style>\n",
       "<table border=\"1\" class=\"dataframe\">\n",
       "  <thead>\n",
       "    <tr style=\"text-align: right;\">\n",
       "      <th></th>\n",
       "      <th>age</th>\n",
       "      <th>gender</th>\n",
       "      <th>merchant</th>\n",
       "      <th>category</th>\n",
       "      <th>amount</th>\n",
       "    </tr>\n",
       "  </thead>\n",
       "  <tbody>\n",
       "    <tr>\n",
       "      <th>0</th>\n",
       "      <td>4</td>\n",
       "      <td>2</td>\n",
       "      <td>30</td>\n",
       "      <td>12</td>\n",
       "      <td>4.55</td>\n",
       "    </tr>\n",
       "    <tr>\n",
       "      <th>1</th>\n",
       "      <td>2</td>\n",
       "      <td>2</td>\n",
       "      <td>30</td>\n",
       "      <td>12</td>\n",
       "      <td>39.68</td>\n",
       "    </tr>\n",
       "    <tr>\n",
       "      <th>2</th>\n",
       "      <td>4</td>\n",
       "      <td>1</td>\n",
       "      <td>18</td>\n",
       "      <td>12</td>\n",
       "      <td>26.89</td>\n",
       "    </tr>\n",
       "    <tr>\n",
       "      <th>3</th>\n",
       "      <td>3</td>\n",
       "      <td>2</td>\n",
       "      <td>30</td>\n",
       "      <td>12</td>\n",
       "      <td>17.25</td>\n",
       "    </tr>\n",
       "    <tr>\n",
       "      <th>4</th>\n",
       "      <td>5</td>\n",
       "      <td>2</td>\n",
       "      <td>30</td>\n",
       "      <td>12</td>\n",
       "      <td>35.72</td>\n",
       "    </tr>\n",
       "  </tbody>\n",
       "</table>\n",
       "</div>"
      ],
      "text/plain": [
       "   age  gender  merchant  category  amount\n",
       "0    4       2        30        12    4.55\n",
       "1    2       2        30        12   39.68\n",
       "2    4       1        18        12   26.89\n",
       "3    3       2        30        12   17.25\n",
       "4    5       2        30        12   35.72"
      ]
     },
     "execution_count": 129,
     "metadata": {},
     "output_type": "execute_result"
    }
   ],
   "source": [
    "# Converting the encoded merchant values back to the original string values\n",
    "#X_after_smote_df['merchant'] = label_encoder.inverse_transform(X_after_smote_df['merchant'])\n",
    "\n",
    "# One hot encoding the categorical variables\n",
    "feature_df = pd.get_dummies(X_after_smote_df, columns=['age', 'gender', 'category'], 'merchant'])\n",
    "#feature_df = X_after_smote_df\n",
    "feature_df.head()"
   ]
  },
  {
   "cell_type": "code",
   "execution_count": 130,
   "metadata": {},
   "outputs": [
    {
     "data": {
      "text/html": [
       "<div>\n",
       "<style scoped>\n",
       "    .dataframe tbody tr th:only-of-type {\n",
       "        vertical-align: middle;\n",
       "    }\n",
       "\n",
       "    .dataframe tbody tr th {\n",
       "        vertical-align: top;\n",
       "    }\n",
       "\n",
       "    .dataframe thead th {\n",
       "        text-align: right;\n",
       "    }\n",
       "</style>\n",
       "<table border=\"1\" class=\"dataframe\">\n",
       "  <thead>\n",
       "    <tr style=\"text-align: right;\">\n",
       "      <th></th>\n",
       "      <th>age</th>\n",
       "      <th>gender</th>\n",
       "      <th>merchant</th>\n",
       "      <th>category</th>\n",
       "      <th>amount</th>\n",
       "    </tr>\n",
       "  </thead>\n",
       "  <tbody>\n",
       "    <tr>\n",
       "      <th>0</th>\n",
       "      <td>0.737975</td>\n",
       "      <td>1.090643</td>\n",
       "      <td>0.714001</td>\n",
       "      <td>0.331405</td>\n",
       "      <td>-0.299276</td>\n",
       "    </tr>\n",
       "    <tr>\n",
       "      <th>1</th>\n",
       "      <td>-0.759162</td>\n",
       "      <td>1.090643</td>\n",
       "      <td>0.714001</td>\n",
       "      <td>0.331405</td>\n",
       "      <td>0.016067</td>\n",
       "    </tr>\n",
       "    <tr>\n",
       "      <th>2</th>\n",
       "      <td>0.737975</td>\n",
       "      <td>-0.896279</td>\n",
       "      <td>-0.682938</td>\n",
       "      <td>0.331405</td>\n",
       "      <td>-0.098742</td>\n",
       "    </tr>\n",
       "    <tr>\n",
       "      <th>3</th>\n",
       "      <td>-0.010593</td>\n",
       "      <td>1.090643</td>\n",
       "      <td>0.714001</td>\n",
       "      <td>0.331405</td>\n",
       "      <td>-0.185275</td>\n",
       "    </tr>\n",
       "    <tr>\n",
       "      <th>4</th>\n",
       "      <td>1.486544</td>\n",
       "      <td>1.090643</td>\n",
       "      <td>0.714001</td>\n",
       "      <td>0.331405</td>\n",
       "      <td>-0.019480</td>\n",
       "    </tr>\n",
       "  </tbody>\n",
       "</table>\n",
       "</div>"
      ],
      "text/plain": [
       "        age    gender  merchant  category    amount\n",
       "0  0.737975  1.090643  0.714001  0.331405 -0.299276\n",
       "1 -0.759162  1.090643  0.714001  0.331405  0.016067\n",
       "2  0.737975 -0.896279 -0.682938  0.331405 -0.098742\n",
       "3 -0.010593  1.090643  0.714001  0.331405 -0.185275\n",
       "4  1.486544  1.090643  0.714001  0.331405 -0.019480"
      ]
     },
     "execution_count": 130,
     "metadata": {},
     "output_type": "execute_result"
    }
   ],
   "source": [
    "# Standardizing the features\n",
    "standard_scaler = StandardScaler()\n",
    "scaled_df = pd.DataFrame(standard_scaler.fit_transform(feature_df), columns = feature_df.columns)\n",
    "\n",
    "scaled_df.head()"
   ]
  },
  {
   "cell_type": "code",
   "execution_count": 131,
   "metadata": {},
   "outputs": [
    {
     "data": {
      "text/plain": [
       "(594643, 5)"
      ]
     },
     "execution_count": 131,
     "metadata": {},
     "output_type": "execute_result"
    }
   ],
   "source": [
    "# Performing dimensionality reduction using PCA\n",
    "\n",
    "# Limiting the number of components such that 95% of the variance is explained\n",
    "#pca = PCA(0.95, svd_solver='full')\n",
    "#scaled_df = pca.fit_transform(scaled_df)\n",
    "\n",
    "scaled_df.shape\n"
   ]
  },
  {
   "cell_type": "markdown",
   "metadata": {},
   "source": [
    "## Training supervised learning models using intrinsic features from the dataset"
   ]
  },
  {
   "cell_type": "code",
   "execution_count": 132,
   "metadata": {},
   "outputs": [],
   "source": [
    "k_fold = StratifiedKFold(n_splits=5, random_state=None, shuffle=False)\n",
    "\n",
    "random_forest = RandomForestClassifier(max_depth=4, n_estimators=150, verbose=True)\n",
    "svm = SVC(gamma=\"auto\")\n",
    "logistic_regression = LogisticRegression(solver='lbfgs')\n",
    "scaled_df = scaled_df.values\n",
    "#labels = Y_after_smote\n",
    "labels = Y_before_smote"
   ]
  },
  {
   "cell_type": "code",
   "execution_count": 33,
   "metadata": {},
   "outputs": [
    {
     "name": "stderr",
     "output_type": "stream",
     "text": [
      "[Parallel(n_jobs=1)]: Using backend SequentialBackend with 1 concurrent workers.\n",
      "[Parallel(n_jobs=1)]: Done 150 out of 150 | elapsed:  9.6min finished\n",
      "[Parallel(n_jobs=1)]: Using backend SequentialBackend with 1 concurrent workers.\n",
      "[Parallel(n_jobs=1)]: Done 150 out of 150 | elapsed:    2.1s finished\n"
     ]
    },
    {
     "name": "stdout",
     "output_type": "stream",
     "text": [
      "              precision    recall  f1-score   support\n",
      "\n",
      "           0       1.00      0.94      0.97    117625\n",
      "           1       0.94      1.00      0.97    117353\n",
      "\n",
      "    accuracy                           0.97    234978\n",
      "   macro avg       0.97      0.97      0.97    234978\n",
      "weighted avg       0.97      0.97      0.97    234978\n",
      "\n"
     ]
    }
   ],
   "source": [
    "# Random Forest Classifier\n",
    "\n",
    "for train_index, test_index in k_fold.split(scaled_df):\n",
    "\n",
    "    X_train, X_test = scaled_df[train_index], scaled_df[test_index]\n",
    "    y_train, y_test = labels[train_index], labels[test_index]\n",
    "\n",
    "    #X_train, X_test, y_train, y_test = train_test_split(scaled_df, labels, test_size=0.20, random_state=42)\n",
    "\n",
    "    clf = random_forest.fit(X_train, y_train)\n",
    "\n",
    "    predictions = clf.predict(X_test)\n",
    "    accuracy = accuracy_score(y_test, predictions) * 100\n",
    "\n",
    "    \n",
    "'''\n",
    "    metrics = precision_recall_fscore_support(y_test, predictions, average='macro')\n",
    "    precision, recall = metrics[0], metrics[1]\n",
    "    f1_score = 2 * (precision * recall) / (precision + recall)\n",
    "\n",
    "    \n",
    "    print(\"Accuracy = {0:.4f}%\".format(accuracy))\n",
    "    print(\"Precision = {0:.4f}\".format(precision))\n",
    "    print(\"Recall = {0:.4f}\".format(recall))\n",
    "    print(\"F1 Score = {0:.4f}\".format(f1_score))'''\n",
    "    print(classification_report(y_test, predictions))\n",
    "    print(\"---------------------------------------------\")"
   ]
  },
  {
   "cell_type": "code",
   "execution_count": 13,
   "metadata": {},
   "outputs": [
    {
     "name": "stdout",
     "output_type": "stream",
     "text": [
      "Finished training\n",
      "Accuracy = 99.3610%\n",
      "Precision = 0.9014\n",
      "Recall = 0.8650\n",
      "F1 Score = 0.8828\n",
      "---------------------------------------------\n",
      "Finished training\n",
      "Accuracy = 99.5434%\n",
      "Precision = 0.9360\n",
      "Recall = 0.8705\n",
      "F1 Score = 0.9021\n",
      "---------------------------------------------\n",
      "Finished training\n",
      "Accuracy = 99.5628%\n",
      "Precision = 0.9406\n",
      "Recall = 0.8588\n",
      "F1 Score = 0.8978\n",
      "---------------------------------------------\n",
      "Finished training\n",
      "Accuracy = 99.6149%\n",
      "Precision = 0.9558\n",
      "Recall = 0.8603\n",
      "F1 Score = 0.9055\n",
      "---------------------------------------------\n",
      "Finished training\n",
      "Accuracy = 99.6241%\n",
      "Precision = 0.9734\n",
      "Recall = 0.8432\n",
      "F1 Score = 0.9036\n",
      "---------------------------------------------\n"
     ]
    }
   ],
   "source": [
    "# SVM Classifier\n",
    "'''\n",
    "for train_index, test_index in k_fold.split(scaled_df):\n",
    "    X_train, X_test = scaled_df[train_index], scaled_df[test_index]\n",
    "    y_train, y_test = labels[train_index], labels[test_index]\n",
    "    \n",
    "    clf = svm.fit(X_train, y_train)\n",
    "    predictions = clf.predict(X_test)\n",
    "    accuracy = accuracy_score(y_test, predictions) * 100\n",
    "\n",
    "    metrics = precision_recall_fscore_support(y_test, predictions, average='macro')\n",
    "    precision, recall = metrics[0], metrics[1]\n",
    "    f1_score = 2 * (precision * recall) / (precision + recall)\n",
    "\n",
    "    \n",
    "    print(\"Accuracy = {0:.4f}%\".format(accuracy))\n",
    "    print(\"Precision = {0:.4f}\".format(precision))\n",
    "    print(\"Recall = {0:.4f}\".format(recall))\n",
    "    print(\"F1 Score = {0:.4f}\".format(f1_score))\n",
    "    print(\"---------------------------------------------\")'''"
   ]
  },
  {
   "cell_type": "code",
   "execution_count": 133,
   "metadata": {},
   "outputs": [
    {
     "name": "stdout",
     "output_type": "stream",
     "text": [
      "              precision    recall  f1-score   support\n",
      "\n",
      "           0       1.00      1.00      1.00    117489\n",
      "           1       0.87      0.60      0.71      1440\n",
      "\n",
      "    accuracy                           0.99    118929\n",
      "   macro avg       0.93      0.80      0.85    118929\n",
      "weighted avg       0.99      0.99      0.99    118929\n",
      "\n",
      "---------------------------------------------\n",
      "              precision    recall  f1-score   support\n",
      "\n",
      "           0       0.99      1.00      1.00    117489\n",
      "           1       0.86      0.58      0.69      1440\n",
      "\n",
      "    accuracy                           0.99    118929\n",
      "   macro avg       0.93      0.79      0.84    118929\n",
      "weighted avg       0.99      0.99      0.99    118929\n",
      "\n",
      "---------------------------------------------\n",
      "              precision    recall  f1-score   support\n",
      "\n",
      "           0       0.99      1.00      1.00    117489\n",
      "           1       0.87      0.58      0.70      1440\n",
      "\n",
      "    accuracy                           0.99    118929\n",
      "   macro avg       0.93      0.79      0.85    118929\n",
      "weighted avg       0.99      0.99      0.99    118929\n",
      "\n",
      "---------------------------------------------\n",
      "              precision    recall  f1-score   support\n",
      "\n",
      "           0       0.99      1.00      1.00    117488\n",
      "           1       0.89      0.57      0.70      1440\n",
      "\n",
      "    accuracy                           0.99    118928\n",
      "   macro avg       0.94      0.79      0.85    118928\n",
      "weighted avg       0.99      0.99      0.99    118928\n",
      "\n",
      "---------------------------------------------\n",
      "              precision    recall  f1-score   support\n",
      "\n",
      "           0       0.99      1.00      1.00    117488\n",
      "           1       0.90      0.54      0.68      1440\n",
      "\n",
      "    accuracy                           0.99    118928\n",
      "   macro avg       0.95      0.77      0.84    118928\n",
      "weighted avg       0.99      0.99      0.99    118928\n",
      "\n",
      "---------------------------------------------\n"
     ]
    }
   ],
   "source": [
    "# Logistic Regression Classifier\n",
    "for train_index, test_index in k_fold.split(scaled_df, labels):\n",
    "    X_train, X_test = scaled_df[train_index], scaled_df[test_index]\n",
    "    y_train, y_test = labels[train_index], labels[test_index]\n",
    "    \n",
    "    clf = logistic_regression.fit(X_train, y_train)\n",
    "\n",
    "    predictions = clf.predict(X_test)\n",
    "    \n",
    "    '''accuracy = accuracy_score(y_test, predictions) * 100\n",
    "\n",
    "    metrics = precision_recall_fscore_support(y_test, predictions, average='macro')\n",
    "    precision, recall = metrics[0], metrics[1]\n",
    "    f1_score = 2 * (precision * recall) / (precision + recall)\n",
    "\n",
    "    \n",
    "    print(\"Accuracy = {0:.4f}%\".format(accuracy))\n",
    "    print(\"Precision = {0:.4f}\".format(precision))\n",
    "    print(\"Recall = {0:.4f}\".format(recall))\n",
    "    print(\"F1 Score = {0:.4f}\".format(f1_score))'''\n",
    "    print(classification_report(y_test, predictions))\n",
    "\n",
    "    print(\"---------------------------------------------\")\n",
    "    \n",
    "    "
   ]
  },
  {
   "cell_type": "markdown",
   "metadata": {},
   "source": [
    "## Extracting network features"
   ]
  },
  {
   "cell_type": "code",
   "execution_count": 23,
   "metadata": {},
   "outputs": [],
   "source": [
    "# Connecting to the Neo4j database\n",
    "graph = Graph(password=\"root\")\n",
    "\n",
    "# Query to fetch the network features from Neo4j\n",
    "query = \"\"\"\n",
    "MATCH (p:Placeholder)\n",
    "RETURN p.id AS id, p.degree AS degree, p.pagerank as pagerank, p.community AS community \n",
    "\"\"\"\n",
    "\n",
    "data = graph.run(query)\n",
    "\n",
    "records = {}\n",
    "\n",
    "for record in data:\n",
    "    records[record['id']] = {'degree': record['degree'], 'pagerank': record['pagerank'], 'community': record['community']}\n"
   ]
  },
  {
   "cell_type": "code",
   "execution_count": 24,
   "metadata": {},
   "outputs": [],
   "source": [
    "banksim_df = pd.read_csv(\"../data/bs140513_032310.csv\")\n"
   ]
  },
  {
   "cell_type": "code",
   "execution_count": 25,
   "metadata": {},
   "outputs": [],
   "source": [
    "def load_degree(record):\n",
    "    return records[record.split(\"'\")[1]]['degree']\n",
    "def load_community(record):\n",
    "    return str(records[record.split(\"'\")[1]]['community'])\n",
    "def load_pagerank(record):\n",
    "    return records[record.split(\"'\")[1]]['pagerank']"
   ]
  },
  {
   "cell_type": "code",
   "execution_count": 26,
   "metadata": {},
   "outputs": [],
   "source": [
    "banksim_df['merchant_degree'] = banksim_df['merchant'].apply(load_degree)\n",
    "banksim_df['customer_degree'] = banksim_df['customer'].apply(load_degree)\n",
    "banksim_df['merchant_pagerank'] = banksim_df['merchant'].apply(load_pagerank)\n",
    "banksim_df['customer_pagerank'] = banksim_df['customer'].apply(load_pagerank)\n",
    "banksim_df['merchant_community'] = banksim_df['merchant'].apply(load_community)\n",
    "banksim_df['customer_community'] = banksim_df['customer'].apply(load_community)"
   ]
  },
  {
   "cell_type": "code",
   "execution_count": 27,
   "metadata": {},
   "outputs": [
    {
     "data": {
      "text/html": [
       "<div>\n",
       "<style scoped>\n",
       "    .dataframe tbody tr th:only-of-type {\n",
       "        vertical-align: middle;\n",
       "    }\n",
       "\n",
       "    .dataframe tbody tr th {\n",
       "        vertical-align: top;\n",
       "    }\n",
       "\n",
       "    .dataframe thead th {\n",
       "        text-align: right;\n",
       "    }\n",
       "</style>\n",
       "<table border=\"1\" class=\"dataframe\">\n",
       "  <thead>\n",
       "    <tr style=\"text-align: right;\">\n",
       "      <th></th>\n",
       "      <th>step</th>\n",
       "      <th>customer</th>\n",
       "      <th>age</th>\n",
       "      <th>gender</th>\n",
       "      <th>zipcodeOri</th>\n",
       "      <th>merchant</th>\n",
       "      <th>zipMerchant</th>\n",
       "      <th>category</th>\n",
       "      <th>amount</th>\n",
       "      <th>fraud</th>\n",
       "      <th>merchant_degree</th>\n",
       "      <th>customer_degree</th>\n",
       "      <th>customer_pagerank</th>\n",
       "      <th>merchant_pagerank</th>\n",
       "      <th>merchant_community</th>\n",
       "      <th>customer_community</th>\n",
       "    </tr>\n",
       "  </thead>\n",
       "  <tbody>\n",
       "    <tr>\n",
       "      <th>0</th>\n",
       "      <td>0</td>\n",
       "      <td>'C1093826151'</td>\n",
       "      <td>'4'</td>\n",
       "      <td>'M'</td>\n",
       "      <td>'28007'</td>\n",
       "      <td>'M348934600'</td>\n",
       "      <td>'28007'</td>\n",
       "      <td>'es_transportation'</td>\n",
       "      <td>4.55</td>\n",
       "      <td>0</td>\n",
       "      <td>3929</td>\n",
       "      <td>7</td>\n",
       "      <td>0.15</td>\n",
       "      <td>46.541354</td>\n",
       "      <td>598811</td>\n",
       "      <td>598811</td>\n",
       "    </tr>\n",
       "    <tr>\n",
       "      <th>1</th>\n",
       "      <td>0</td>\n",
       "      <td>'C352968107'</td>\n",
       "      <td>'2'</td>\n",
       "      <td>'M'</td>\n",
       "      <td>'28007'</td>\n",
       "      <td>'M348934600'</td>\n",
       "      <td>'28007'</td>\n",
       "      <td>'es_transportation'</td>\n",
       "      <td>39.68</td>\n",
       "      <td>0</td>\n",
       "      <td>3929</td>\n",
       "      <td>12</td>\n",
       "      <td>0.15</td>\n",
       "      <td>46.541354</td>\n",
       "      <td>598811</td>\n",
       "      <td>598846</td>\n",
       "    </tr>\n",
       "    <tr>\n",
       "      <th>2</th>\n",
       "      <td>0</td>\n",
       "      <td>'C2054744914'</td>\n",
       "      <td>'4'</td>\n",
       "      <td>'F'</td>\n",
       "      <td>'28007'</td>\n",
       "      <td>'M1823072687'</td>\n",
       "      <td>'28007'</td>\n",
       "      <td>'es_transportation'</td>\n",
       "      <td>26.89</td>\n",
       "      <td>0</td>\n",
       "      <td>3573</td>\n",
       "      <td>14</td>\n",
       "      <td>0.15</td>\n",
       "      <td>41.391096</td>\n",
       "      <td>598846</td>\n",
       "      <td>598811</td>\n",
       "    </tr>\n",
       "    <tr>\n",
       "      <th>3</th>\n",
       "      <td>0</td>\n",
       "      <td>'C1760612790'</td>\n",
       "      <td>'3'</td>\n",
       "      <td>'M'</td>\n",
       "      <td>'28007'</td>\n",
       "      <td>'M348934600'</td>\n",
       "      <td>'28007'</td>\n",
       "      <td>'es_transportation'</td>\n",
       "      <td>17.25</td>\n",
       "      <td>0</td>\n",
       "      <td>3929</td>\n",
       "      <td>11</td>\n",
       "      <td>0.15</td>\n",
       "      <td>46.541354</td>\n",
       "      <td>598811</td>\n",
       "      <td>598846</td>\n",
       "    </tr>\n",
       "    <tr>\n",
       "      <th>4</th>\n",
       "      <td>0</td>\n",
       "      <td>'C757503768'</td>\n",
       "      <td>'5'</td>\n",
       "      <td>'M'</td>\n",
       "      <td>'28007'</td>\n",
       "      <td>'M348934600'</td>\n",
       "      <td>'28007'</td>\n",
       "      <td>'es_transportation'</td>\n",
       "      <td>35.72</td>\n",
       "      <td>0</td>\n",
       "      <td>3929</td>\n",
       "      <td>14</td>\n",
       "      <td>0.15</td>\n",
       "      <td>46.541354</td>\n",
       "      <td>598811</td>\n",
       "      <td>598811</td>\n",
       "    </tr>\n",
       "  </tbody>\n",
       "</table>\n",
       "</div>"
      ],
      "text/plain": [
       "   step       customer  age gender zipcodeOri       merchant zipMerchant  \\\n",
       "0     0  'C1093826151'  '4'    'M'    '28007'   'M348934600'     '28007'   \n",
       "1     0   'C352968107'  '2'    'M'    '28007'   'M348934600'     '28007'   \n",
       "2     0  'C2054744914'  '4'    'F'    '28007'  'M1823072687'     '28007'   \n",
       "3     0  'C1760612790'  '3'    'M'    '28007'   'M348934600'     '28007'   \n",
       "4     0   'C757503768'  '5'    'M'    '28007'   'M348934600'     '28007'   \n",
       "\n",
       "              category  amount  fraud  merchant_degree  customer_degree  \\\n",
       "0  'es_transportation'    4.55      0             3929                7   \n",
       "1  'es_transportation'   39.68      0             3929               12   \n",
       "2  'es_transportation'   26.89      0             3573               14   \n",
       "3  'es_transportation'   17.25      0             3929               11   \n",
       "4  'es_transportation'   35.72      0             3929               14   \n",
       "\n",
       "   customer_pagerank  merchant_pagerank merchant_community customer_community  \n",
       "0               0.15          46.541354             598811             598811  \n",
       "1               0.15          46.541354             598811             598846  \n",
       "2               0.15          41.391096             598846             598811  \n",
       "3               0.15          46.541354             598811             598846  \n",
       "4               0.15          46.541354             598811             598811  "
      ]
     },
     "execution_count": 27,
     "metadata": {},
     "output_type": "execute_result"
    }
   ],
   "source": [
    "banksim_df.head()"
   ]
  },
  {
   "cell_type": "code",
   "execution_count": null,
   "metadata": {},
   "outputs": [],
   "source": []
  }
 ],
 "metadata": {
  "kernelspec": {
   "display_name": "Python 3",
   "language": "python",
   "name": "python3"
  },
  "language_info": {
   "codemirror_mode": {
    "name": "ipython",
    "version": 3
   },
   "file_extension": ".py",
   "mimetype": "text/x-python",
   "name": "python",
   "nbconvert_exporter": "python",
   "pygments_lexer": "ipython3",
   "version": "3.7.3"
  }
 },
 "nbformat": 4,
 "nbformat_minor": 2
}
